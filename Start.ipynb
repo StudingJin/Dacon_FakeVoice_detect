{
 "cells": [
  {
   "cell_type": "code",
   "execution_count": 5,
   "id": "3fdfb71d-ab79-455c-80da-8e7ce7f0291f",
   "metadata": {
    "tags": []
   },
   "outputs": [
    {
     "name": "stdout",
     "output_type": "stream",
     "text": [
      "ZIP 파일이 ./data 경로에 성공적으로 추출되었습니다.\n"
     ]
    }
   ],
   "source": [
    "import zipfile\n",
    "import os\n",
    "\n",
    "# ZIP 파일 경로와 추출할 디렉토리 경로를 설정합니다.\n",
    "zip_file_path = './open (1).zip'\n",
    "extract_to_path = './data'\n",
    "\n",
    "# 디렉토리가 없는 경우 생성합니다.\n",
    "os.makedirs(extract_to_path, exist_ok=True)\n",
    "\n",
    "# ZIP 파일 열기\n",
    "with zipfile.ZipFile(zip_file_path, 'r') as zip_ref:\n",
    "    # ZIP 파일 내용 추출\n",
    "    zip_ref.extractall(extract_to_path)\n",
    "\n",
    "print(f\"ZIP 파일이 {extract_to_path} 경로에 성공적으로 추출되었습니다.\")\n"
   ]
  },
  {
   "cell_type": "code",
   "execution_count": null,
   "id": "bab407b5-4d7e-4490-b6ca-3796df013cae",
   "metadata": {},
   "outputs": [],
   "source": []
  }
 ],
 "metadata": {
  "kernelspec": {
   "display_name": "Dacon_Audio",
   "language": "python",
   "name": "dacon_audio"
  },
  "language_info": {
   "codemirror_mode": {
    "name": "ipython",
    "version": 3
   },
   "file_extension": ".py",
   "mimetype": "text/x-python",
   "name": "python",
   "nbconvert_exporter": "python",
   "pygments_lexer": "ipython3",
   "version": "3.8.19"
  }
 },
 "nbformat": 4,
 "nbformat_minor": 5
}
